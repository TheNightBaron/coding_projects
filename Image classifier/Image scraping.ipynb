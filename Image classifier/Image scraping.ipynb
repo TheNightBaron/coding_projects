{
 "cells": [
  {
   "cell_type": "code",
   "execution_count": 1,
   "metadata": {},
   "outputs": [],
   "source": [
    "from selenium import webdriver\n",
    "import time\n",
    "import requests\n",
    "import shutil\n",
    "import os"
   ]
  },
  {
   "cell_type": "code",
   "execution_count": 2,
   "metadata": {},
   "outputs": [],
   "source": [
    "def save_img(inp, img, i, directory):\n",
    "    try:\n",
    "        filename = inp+str(i)+'.jpg'\n",
    "        response = requests.get(img,stream=True)\n",
    "        image_path = os.path.join(directory, filename)\n",
    "        with open(image_path, 'wb') as file:\n",
    "            shutil.copyfileobj(response.raw, file)\n",
    "    except Exception:\n",
    "        pass\n",
    "\n",
    "\n",
    "def find_urls(inp, url, driver, iterate, directory):\n",
    "    driver.get(url)\n",
    "    time.sleep(3)\n",
    "    for j in range (1,iterate+1):\n",
    "        try:\n",
    "            imgurl = driver.find_element_by_xpath('//div//div//div//div//div//div//div//div//div//div['+str(j)+']//a[1]//div[1]//img[1]')\n",
    "            imgurl.click()\n",
    "            time.sleep(7)\n",
    "            img = driver.find_element_by_xpath('//body/div[2]/c-wiz/div[3]/div[2]/div[3]/div/div/div[3]/div[2]/c-wiz/div[1]/div[1]/div/div[2]/a/img').get_attribute(\"src\")\n",
    "            save_img(inp,img,j, directory)\n",
    "            #print(j)\n",
    "        except Exception:\n",
    "            pass"
   ]
  },
  {
   "cell_type": "code",
   "execution_count": 41,
   "metadata": {},
   "outputs": [],
   "source": [
    "driver = webdriver.Chrome(executable_path = 'C:\\\\Users\\\\Harsh Garg\\\\Desktop\\\\Jupyter Notebooks\\\\chromedriver')\n",
    "# directory = 'D:\\\\Harsh Garg\\\\Pictures\\\\Model\\\\Male'\n",
    "inp = input(\"Enter query \")\n",
    "url = 'https://www.google.com/search?q='+str(inp)+'&source=lnms&tbm=isch&sa=X&ved=2ahUKEwie44_AnqLpAhUhBWMBHUFGD90Q_AUoAXoECBUQAw&biw=1920&bih=947'\n",
    "\n",
    "\n",
    "iterate = int(input('Enter number of images '))\n",
    "find_urls(inp,url,driver,iterate, 'D:\\\\Harsh Garg\\\\Pictures\\\\Model\\\\Male')\n",
    "driver.close()"
   ]
  },
  {
   "cell_type": "code",
   "execution_count": 9,
   "metadata": {},
   "outputs": [],
   "source": [
    "driver = webdriver.Chrome(executable_path = 'C:\\\\Users\\\\Harsh Garg\\\\Desktop\\\\Jupyter Notebooks\\\\chromedriver')\n",
    "# directory = 'D:\\\\Harsh Garg\\\\Pictures\\\\Model\\\\Male'\n",
    "inp = 'female teenagers'\n",
    "url = 'https://www.google.com/search?q='+str(inp)+'&source=lnms&tbm=isch&sa=X&ved=2ahUKEwie44_AnqLpAhUhBWMBHUFGD90Q_AUoAXoECBUQAw&biw=1920&bih=947'\n",
    "\n",
    "\n",
    "iterate = int(150)\n",
    "find_urls(inp,url,driver,iterate, 'D:\\\\Harsh Garg\\\\Pictures\\\\Model\\\\F')\n",
    "driver.close()"
   ]
  },
  {
   "cell_type": "code",
   "execution_count": 6,
   "metadata": {},
   "outputs": [],
   "source": [
    "driver = webdriver.Chrome(executable_path = 'C:\\\\Users\\\\Harsh Garg\\\\Desktop\\\\Jupyter Notebooks\\\\chromedriver')\n",
    "# directory = 'D:\\\\Harsh Garg\\\\Pictures\\\\Model\\\\Male'\n",
    "inp = 'indian female teenagers'\n",
    "url = 'https://www.google.com/search?q='+str(inp)+'&source=lnms&tbm=isch&sa=X&ved=2ahUKEwie44_AnqLpAhUhBWMBHUFGD90Q_AUoAXoECBUQAw&biw=1920&bih=947'\n",
    "\n",
    "\n",
    "iterate = int(100)\n",
    "find_urls(inp,url,driver,iterate, 'D:\\\\Harsh Garg\\\\Pictures\\\\Model\\\\F')\n",
    "driver.close()"
   ]
  },
  {
   "cell_type": "code",
   "execution_count": 7,
   "metadata": {},
   "outputs": [],
   "source": [
    "driver = webdriver.Chrome(executable_path = 'C:\\\\Users\\\\Harsh Garg\\\\Desktop\\\\Jupyter Notebooks\\\\chromedriver')\n",
    "# directory = 'D:\\\\Harsh Garg\\\\Pictures\\\\Model\\\\Male'\n",
    "inp = 'male teenagers'\n",
    "url = 'https://www.google.com/search?q='+str(inp)+'&source=lnms&tbm=isch&sa=X&ved=2ahUKEwie44_AnqLpAhUhBWMBHUFGD90Q_AUoAXoECBUQAw&biw=1920&bih=947'\n",
    "\n",
    "\n",
    "iterate = int(150)\n",
    "find_urls(inp,url,driver,iterate, 'D:\\\\Harsh Garg\\\\Pictures\\\\Model\\\\M')\n",
    "driver.close()"
   ]
  },
  {
   "cell_type": "code",
   "execution_count": 8,
   "metadata": {},
   "outputs": [],
   "source": [
    "driver = webdriver.Chrome(executable_path = 'C:\\\\Users\\\\Harsh Garg\\\\Desktop\\\\Jupyter Notebooks\\\\chromedriver')\n",
    "# directory = 'D:\\\\Harsh Garg\\\\Pictures\\\\Model\\\\Male'\n",
    "inp = 'indian male teenagers'\n",
    "url = 'https://www.google.com/search?q='+str(inp)+'&source=lnms&tbm=isch&sa=X&ved=2ahUKEwie44_AnqLpAhUhBWMBHUFGD90Q_AUoAXoECBUQAw&biw=1920&bih=947'\n",
    "\n",
    "\n",
    "iterate = int(100)\n",
    "find_urls(inp,url,driver,iterate, 'D:\\\\Harsh Garg\\\\Pictures\\\\Model\\\\M')\n",
    "driver.close()"
   ]
  }
 ],
 "metadata": {
  "kernelspec": {
   "display_name": "Python 3",
   "language": "python",
   "name": "python3"
  },
  "language_info": {
   "codemirror_mode": {
    "name": "ipython",
    "version": 3
   },
   "file_extension": ".py",
   "mimetype": "text/x-python",
   "name": "python",
   "nbconvert_exporter": "python",
   "pygments_lexer": "ipython3",
   "version": "3.5.5"
  }
 },
 "nbformat": 4,
 "nbformat_minor": 2
}
