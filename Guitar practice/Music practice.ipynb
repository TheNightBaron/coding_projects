{
 "cells": [
  {
   "cell_type": "code",
   "execution_count": null,
   "metadata": {},
   "outputs": [],
   "source": [
    "#Music Practice"
   ]
  },
  {
   "cell_type": "code",
   "execution_count": null,
   "metadata": {},
   "outputs": [],
   "source": [
    "#Chord changes practice\n",
    "#Option 1: Pure power chords\n",
    "#Option 2: Pure open chords\n",
    "#Option 3: 12-bar blues\n",
    "#Option 4: Open major and minor + barre chords\n",
    "#Option 5: Major, minor, and power chords\n",
    "#Option 6: Major, minor, power and 7 chords"
   ]
  },
  {
   "cell_type": "code",
   "execution_count": null,
   "metadata": {},
   "outputs": [],
   "source": [
    "#CHORDS"
   ]
  },
  {
   "cell_type": "code",
   "execution_count": 3,
   "metadata": {},
   "outputs": [],
   "source": [
    "import random"
   ]
  },
  {
   "cell_type": "code",
   "execution_count": 83,
   "metadata": {},
   "outputs": [],
   "source": [
    "chords_of_key = ['I', 'ii', 'iii', 'IV', 'V', 'vi'] #major key"
   ]
  },
  {
   "cell_type": "code",
   "execution_count": 84,
   "metadata": {},
   "outputs": [],
   "source": [
    "def check_resolve(chord, next_chord, chords):\n",
    "    if chord=='I': resolve(next_chord, chords)\n",
    "    elif chord=='ii': \n",
    "        if next_chord in ['iii', 'V']: return\n",
    "        else: resolve(next_chord, chords)\n",
    "    elif chord=='iii': \n",
    "        if next_chord in ['IV', 'vi']: return\n",
    "        else: resolve(next_chord, chords)\n",
    "    elif chord=='IV': \n",
    "        if next_chord in ['ii', 'V']: return\n",
    "        else: resolve(next_chord, chords)\n",
    "    elif chord=='V': \n",
    "        if next_chord in ['I', 'iii', 'vi']: return\n",
    "        else: resolve(next_chord, chords)\n",
    "    elif chord=='vi': \n",
    "        if next_chord in ['ii', 'IV']: return\n",
    "        else: resolve(next_chord, chords)"
   ]
  },
  {
   "cell_type": "code",
   "execution_count": 85,
   "metadata": {},
   "outputs": [],
   "source": [
    "def resolve(last_chord, chords):\n",
    "    if last_chord=='I': \n",
    "        chords.append(random.choice(chords_of_key))\n",
    "        check_resolve(chords[-2], chords[-1], chords)\n",
    "    elif last_chord=='ii': \n",
    "        chords.append(random.choice(['iii', 'V']))\n",
    "        return\n",
    "    elif last_chord=='iii': \n",
    "        chords.append(random.choice(['IV', 'vi']))\n",
    "        return\n",
    "    elif last_chord=='IV': \n",
    "        chords.append(random.choice(['ii', 'V']))\n",
    "        return\n",
    "    elif last_chord=='V': \n",
    "        chords.append(random.choice(['I', 'iii', 'vi']))\n",
    "        return\n",
    "    elif last_chord=='vi': \n",
    "        chords.append(random.choice(['ii', 'IV']))\n",
    "        return"
   ]
  },
  {
   "cell_type": "code",
   "execution_count": 86,
   "metadata": {},
   "outputs": [],
   "source": [
    "#Get random chord progression"
   ]
  },
  {
   "cell_type": "code",
   "execution_count": 93,
   "metadata": {},
   "outputs": [],
   "source": [
    "x = random.randint(3,9) #random number of chords in the progression\n",
    "chords = []\n",
    "for a in range(x):\n",
    "    chords.append(random.choice(chords_of_key))"
   ]
  },
  {
   "cell_type": "code",
   "execution_count": 88,
   "metadata": {},
   "outputs": [],
   "source": [
    "#Get key for the progression\n",
    "\n",
    "notes = ['A', 'A#', 'B', 'C', 'C#', 'D', 'D#', 'E', 'F', 'F#', 'G', 'G#']\n",
    "key = random.choice(notes)\n",
    "\n",
    "#Get names of chords for given key and chords of key\n",
    "\n",
    "ind = notes.index(key)\n",
    "\n",
    "scale = [key, notes[(ind+2)%12], notes[(ind+4)%12], notes[(ind+5)%12], notes[(ind+7)%12], notes[(ind+9)%12]]"
   ]
  },
  {
   "cell_type": "code",
   "execution_count": 89,
   "metadata": {},
   "outputs": [],
   "source": [
    "def get_chords(chords, scale):\n",
    "    chord_names = []\n",
    "    for a in chords:\n",
    "        if a == 'I':\n",
    "            chord_names.append(scale[0]+' Major')\n",
    "        elif a == 'ii':\n",
    "            chord_names.append(scale[1]+' minor')\n",
    "        elif a == 'iii':\n",
    "            chord_names.append(scale[2]+' minor')\n",
    "        elif a == 'IV':\n",
    "            chord_names.append(scale[3]+' Major')\n",
    "        elif a == 'V':\n",
    "            chord_names.append(scale[4]+' Major')\n",
    "        elif a == 'vi':\n",
    "            chord_names.append(scale[5]+' minor')\n",
    "    return chord_names"
   ]
  },
  {
   "cell_type": "code",
   "execution_count": 94,
   "metadata": {},
   "outputs": [],
   "source": [
    "names = get_chords(chords, scale) #option 4"
   ]
  },
  {
   "cell_type": "code",
   "execution_count": 95,
   "metadata": {},
   "outputs": [
    {
     "data": {
      "text/plain": [
       "'F#'"
      ]
     },
     "execution_count": 95,
     "metadata": {},
     "output_type": "execute_result"
    }
   ],
   "source": [
    "key"
   ]
  },
  {
   "cell_type": "code",
   "execution_count": 97,
   "metadata": {},
   "outputs": [
    {
     "data": {
      "text/plain": [
       "['I', 'I', 'ii', 'V', 'I']"
      ]
     },
     "execution_count": 97,
     "metadata": {},
     "output_type": "execute_result"
    }
   ],
   "source": [
    "chords"
   ]
  },
  {
   "cell_type": "code",
   "execution_count": 96,
   "metadata": {},
   "outputs": [
    {
     "data": {
      "text/plain": [
       "['F# Major', 'F# Major', 'G# minor', 'C# Major', 'F# Major']"
      ]
     },
     "execution_count": 96,
     "metadata": {},
     "output_type": "execute_result"
    }
   ],
   "source": [
    "names"
   ]
  },
  {
   "cell_type": "code",
   "execution_count": 79,
   "metadata": {},
   "outputs": [],
   "source": [
    "def get_power_chords(chords, scale):\n",
    "    power_chord_names = []\n",
    "    for a in chords:\n",
    "        if a == 'I':\n",
    "            power_chord_names.append(scale[0])\n",
    "        elif a == 'ii':\n",
    "            power_chord_names.append(scale[1])\n",
    "        elif a == 'iii':\n",
    "            power_chord_names.append(scale[2])\n",
    "        elif a == 'IV':\n",
    "            power_chord_names.append(scale[3])\n",
    "        elif a == 'V':\n",
    "            power_chord_names.append(scale[4])\n",
    "        elif a == 'vi':\n",
    "            power_chord_names.append(scale[5])\n",
    "    return power_chord_names"
   ]
  },
  {
   "cell_type": "code",
   "execution_count": 80,
   "metadata": {},
   "outputs": [],
   "source": [
    "power_names = get_power_chords(chords, scale) #option 1"
   ]
  },
  {
   "cell_type": "code",
   "execution_count": null,
   "metadata": {},
   "outputs": [],
   "source": [
    "#STRING MEMORISATION"
   ]
  },
  {
   "cell_type": "code",
   "execution_count": 1,
   "metadata": {},
   "outputs": [],
   "source": [
    "strings = {1: 'E', 2: 'A', 3: 'D', 4: 'G', 5: 'B', 6: 'e'}"
   ]
  },
  {
   "cell_type": "code",
   "execution_count": 2,
   "metadata": {},
   "outputs": [],
   "source": [
    "def identify_string_name(strings): #add time limit for answering\n",
    "    number = random.randint(1,6)\n",
    "    print(number)\n",
    "    guess = str(input())\n",
    "    if guess == strings.get(number): print('Correct!')\n",
    "    else: print('The correct answer is ', strings.get(number))"
   ]
  },
  {
   "cell_type": "code",
   "execution_count": null,
   "metadata": {},
   "outputs": [],
   "source": [
    "#CIRCLE OF FIFTHS MEMORISATION"
   ]
  }
 ],
 "metadata": {
  "kernelspec": {
   "display_name": "Python 3",
   "language": "python",
   "name": "python3"
  },
  "language_info": {
   "codemirror_mode": {
    "name": "ipython",
    "version": 3
   },
   "file_extension": ".py",
   "mimetype": "text/x-python",
   "name": "python",
   "nbconvert_exporter": "python",
   "pygments_lexer": "ipython3",
   "version": "3.5.5"
  }
 },
 "nbformat": 4,
 "nbformat_minor": 2
}
